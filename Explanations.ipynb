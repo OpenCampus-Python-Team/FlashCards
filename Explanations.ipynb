{
 "cells": [
  {
   "cell_type": "markdown",
   "id": "3fbcb029",
   "metadata": {},
   "source": [
    "Story of our Project:\n",
    "\n"
   ]
  },
  {
   "cell_type": "code",
   "execution_count": null,
   "id": "initial_id",
   "metadata": {
    "collapsed": true
   },
   "outputs": [],
   "source": [
    "class Card:\n",
    "    question: str\n",
    "    answer_possibilities: list[str] = []\n",
    "    correct_answer: str\n",
    "    difficulty: int\n",
    "    ANSWER_KEY = {\"A\": 0, \"B\": 1, \"C\": 2}\n",
    "\n",
    "    def __init__(self, args: list[str]):\n",
    "        self.question = args[0]\n",
    "        self.answer_possibilities = args[1:4]\n",
    "        self.correct_answer = args[-1]\n",
    "        self.difficulty = int(args[-2])"
   ]
  },
  {
   "cell_type": "markdown",
   "id": "c76c94b67c59a177",
   "metadata": {},
   "source": [
    "Card class to represent questions\n",
    "\n",
    "needs a list parsed from a csv to build the class\n",
    "\n",
    "AWNSER_KEY used as a constant to later validate question answers\n",
    "\n"
   ]
  },
  {
   "cell_type": "code",
   "execution_count": null,
   "id": "eaa98ed4aad2366c",
   "metadata": {},
   "outputs": [],
   "source": [
    "    def print_question(self) -> None:\n",
    "        print(self.question)\n",
    "        print(f\"A) {self.answer_possibilities[0]}  B) {self.answer_possibilities[1]}  C) {self.answer_possibilities[2]}\")"
   ]
  },
  {
   "cell_type": "markdown",
   "id": "e7c8cc30798bf5ed",
   "metadata": {},
   "source": [
    "simple function to print a question along with its answers"
   ]
  },
  {
   "cell_type": "code",
   "execution_count": null,
   "id": "7cff810a2652a559",
   "metadata": {},
   "outputs": [],
   "source": [
    "    def is_correct(self, answer: str) -> bool:\n",
    "        return answer == self.correct_answer"
   ]
  },
  {
   "cell_type": "markdown",
   "id": "6aa4055da189914",
   "metadata": {},
   "source": [
    "checks whether the question was answered correctly"
   ]
  },
  {
   "cell_type": "code",
   "execution_count": null,
   "id": "3e530f70750722fe",
   "metadata": {},
   "outputs": [],
   "source": [
    "    def print_answer(self) -> str:\n",
    "        return f\"The right answer is: {self.correct_answer}\""
   ]
  },
  {
   "cell_type": "markdown",
   "id": "169a5948f7d49e21",
   "metadata": {},
   "source": [
    "Prints the correct answer"
   ]
  },
  {
   "cell_type": "code",
   "execution_count": null,
   "id": "63e5176eda6c7bfd",
   "metadata": {},
   "outputs": [],
   "source": [
    "    def update_difficult(self, new_difficulty: int) -> None:\n",
    "        self.difficulty = new_difficulty"
   ]
  },
  {
   "cell_type": "markdown",
   "id": "fc7fc27f3109770e",
   "metadata": {},
   "source": [
    "Setter for difficulty"
   ]
  },
  {
   "cell_type": "code",
   "execution_count": null,
   "id": "c5a13f0307cb731",
   "metadata": {},
   "outputs": [],
   "source": [
    "class Deck:\n",
    "    cards: list[Card]\n",
    "    total_points: int\n",
    "\n",
    "    def __init__(self, filename):\n",
    "        self.load_cards_from_file(filename)\n",
    "        self.set_total_points()"
   ]
  },
  {
   "cell_type": "markdown",
   "id": "a1541a322ea6d5a1",
   "metadata": {},
   "source": [
    "Deck class to represent a collection of cards along with points variable to store user achievements"
   ]
  },
  {
   "cell_type": "code",
   "execution_count": null,
   "id": "ab11b1b00495e9c2",
   "metadata": {},
   "outputs": [],
   "source": [
    "    def load_cards_from_file(self, filename):\n",
    "        l = []\n",
    "        with open(filename, mode='r') as file:\n",
    "            lines = file.readlines()\n",
    "        lines = lines[1:]\n",
    "        for line in lines:\n",
    "            cols = line.strip().split(\";\")\n",
    "            l.append(cols)\n",
    "\n",
    "        self.cards = [Card(card_info) for card_info in l]"
   ]
  },
  {
   "cell_type": "markdown",
   "id": "57fb4d334fb892f2",
   "metadata": {},
   "source": [
    "This functions takes a filename and reads the lines from the file. Then goes through each line and constructs a list of the Card class for the game."
   ]
  },
  {
   "cell_type": "code",
   "execution_count": null,
   "id": "b44db8b0e8fcf1ba",
   "metadata": {},
   "outputs": [],
   "source": [
    "    def set_total_points(self):\n",
    "        self.total_points = sum(card.difficulty for card in self.cards)"
   ]
  },
  {
   "cell_type": "markdown",
   "id": "80ad56e6d833d6e1",
   "metadata": {},
   "source": [
    "This will change the current question with a new Text which will either indecantes that the Answer was right or wrong or will show the ending text"
   ]
  },
  {
   "cell_type": "code",
   "execution_count": null,
   "id": "76fb6aac136f8ae7",
   "metadata": {},
   "outputs": [],
   "source": [
    "def update_text(new_text):\n",
    "    label.config(text=new_text)"
   ]
  },
  {
   "cell_type": "markdown",
   "id": "3f12e54ba94b23be",
   "metadata": {},
   "source": [
    "Simple function to update the ui text"
   ]
  },
  {
   "cell_type": "code",
   "execution_count": null,
   "id": "a10ce39c46e82320",
   "metadata": {},
   "outputs": [],
   "source": [
    "def button_click(answer):\n",
    "    result = \"CORRECT\" if current_card.is_correct(answer) else \"INCORRECT\"\n",
    "    if result == \"INCORRECT\":\n",
    "        result = result + \" \" + current_card.print_answer()\n",
    "    update_text(result)\n",
    "    window.after(2000, next_question)  # Wait for 2 seconds before showing the next question"
   ]
  },
  {
   "cell_type": "markdown",
   "id": "a145232a1c1a847e",
   "metadata": {},
   "source": [
    "On click handler for the ui, checks the user answer then updates its text and shows the next question after 2 seconds"
   ]
  },
  {
   "cell_type": "code",
   "execution_count": null,
   "id": "ecc9869fe3056d5a",
   "metadata": {},
   "outputs": [],
   "source": [
    "def next_question():\n",
    "    global current_card, current_card_number\n",
    "    current_card_number = get_unseen_card_number(len(deck.cards), viewed_cards)\n",
    "    if current_card == -1:\n",
    "        update_text(\"Thanks for playing\")\n",
    "    else:\n",
    "        viewed_cards.append(current_card_number)\n",
    "        current_card = deck.cards[current_card_number]\n",
    "        update_question()"
   ]
  },
  {
   "cell_type": "markdown",
   "id": "422154bbb89927fa",
   "metadata": {},
   "source": [
    "Global is used so when we change the current_card to show a New Question aka a new current card this change wouldn´t result in a new local Variable \n"
   ]
  },
  {
   "cell_type": "code",
   "execution_count": null,
   "id": "212c8e3582d3094f",
   "metadata": {},
   "outputs": [],
   "source": [
    "def get_unseen_card_number(total_cards, viewed_cards):\n",
    "    if len(viewed_cards) == total_cards:\n",
    "        return -1\n",
    "    card_number = -1\n",
    "    while card_number == -1 or card_number in viewed_cards:\n",
    "        card_number = random.randint(0, total_cards - 1)\n",
    "    return card_number"
   ]
  },
  {
   "cell_type": "markdown",
   "id": "a6617dd31f6d3917",
   "metadata": {},
   "source": [
    "Choose a random card from the deck, which has not been played yet.\n",
    "if no cards are left return -1 to indicate end of game"
   ]
  },
  {
   "cell_type": "code",
   "execution_count": null,
   "id": "9ec33e6df47e77c5",
   "metadata": {},
   "outputs": [],
   "source": [
    "def update_question():\n",
    "    new_question=current_card.question\n",
    "    label.config(text=new_question)\n",
    "    A_button.config(text=current_card.answer_possibilities[0])\n",
    "    B_button.config(text=current_card.answer_possibilities[1])\n",
    "    C_button.config(text=current_card.answer_possibilities[2])"
   ]
  },
  {
   "cell_type": "markdown",
   "id": "b02e4527d5c52ee0",
   "metadata": {},
   "source": [
    "Updates UI according to question"
   ]
  },
  {
   "cell_type": "code",
   "execution_count": null,
   "id": "72296514e50e022c",
   "metadata": {},
   "outputs": [],
   "source": [
    "window = tk.Tk()\n",
    "window.title(\"Anki\")\n",
    "\n",
    "deck = Deck(\"python.csv\")\n",
    "viewed_cards = []\n",
    "current_card_number = get_unseen_card_number(len(deck.cards), viewed_cards)\n",
    "viewed_cards.append(current_card_number)\n",
    "current_card = deck.cards[current_card_number]\n",
    "\n",
    "main_frame = tk.Frame(window)\n",
    "main_frame.pack(expand=True)\n",
    "\n",
    "label = tk.Label(main_frame, text=current_card.question, font=(\"Helvetica\", 16))\n",
    "label.pack(pady=20)\n",
    "\n",
    "button_frame = tk.Frame(main_frame)\n",
    "button_frame.pack()\n",
    "\n",
    "A_button = tk.Button(button_frame, text=current_card.answer_possibilities[0], command=lambda: button_click(\"A\"))\n",
    "A_button.pack(side=tk.LEFT, padx=5)\n",
    "\n",
    "B_button = tk.Button(button_frame, text=current_card.answer_possibilities[1], command=lambda: button_click(\"B\"))\n",
    "B_button.pack(side=tk.LEFT, padx=5)\n",
    "\n",
    "C_button = tk.Button(button_frame, text=current_card.answer_possibilities[2], command=lambda: button_click(\"C\"))\n",
    "C_button.pack(side=tk.LEFT, padx=5)\n",
    "\n",
    "main_frame.pack(expand=True, anchor='center')\n",
    "\n",
    "tk.mainloop()\n"
   ]
  },
  {
   "cell_type": "markdown",
   "id": "b968c4f8abf9b9e",
   "metadata": {},
   "source": [
    "Setup the UI, load a csv, initialize the Deck and choose starting question, then call mainloop to keep the game running"
   ]
  }
 ],
 "metadata": {
  "kernelspec": {
   "display_name": "Python 3",
   "language": "python",
   "name": "python3"
  },
  "language_info": {
   "codemirror_mode": {
    "name": "ipython",
    "version": 2
   },
   "file_extension": ".py",
   "mimetype": "text/x-python",
   "name": "python",
   "nbconvert_exporter": "python",
   "pygments_lexer": "ipython2",
   "version": "2.7.6"
  }
 },
 "nbformat": 4,
 "nbformat_minor": 5
}
