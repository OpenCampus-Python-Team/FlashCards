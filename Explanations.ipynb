{
 "cells": [
  {
   "cell_type": "code",
   "execution_count": null,
   "id": "initial_id",
   "metadata": {
    "collapsed": true
   },
   "outputs": [],
   "source": [
    "class Card:\n",
    "    question: str\n",
    "    answer_possibilities: list[str] = []\n",
    "    correct_answer: str\n",
    "    difficulty: int\n",
    "    ANSWER_KEY = {\"A\": 0, \"B\": 1, \"C\": 2}\n",
    "\n",
    "    def __init__(self, args: list[str]):\n",
    "        self.question = args[0]\n",
    "        self.answer_possibilities = args[1:4]\n",
    "        self.correct_answer = args[-1]\n",
    "        self.difficulty = int(args[-2])"
   ]
  },
  {
   "metadata": {},
   "cell_type": "markdown",
   "source": [
    "Card class to represent questions\n",
    "\n",
    "needs a list parsed from a csv to build the class\n",
    "\n",
    "AWNSER_KEY used as a constant to later validate question answers\n",
    "\n"
   ],
   "id": "c76c94b67c59a177"
  },
  {
   "metadata": {},
   "cell_type": "code",
   "outputs": [],
   "execution_count": null,
   "source": [
    "    def print_question(self) -> None:\n",
    "        print(self.question)\n",
    "        print(f\"A) {self.answer_possibilities[0]}  B) {self.answer_possibilities[1]}  C) {self.answer_possibilities[2]}\")"
   ],
   "id": "eaa98ed4aad2366c"
  },
  {
   "metadata": {},
   "cell_type": "markdown",
   "source": "simple function to print a question along with its answers",
   "id": "e7c8cc30798bf5ed"
  },
  {
   "metadata": {},
   "cell_type": "code",
   "outputs": [],
   "execution_count": null,
   "source": [
    "    def is_correct(self, answer: str) -> bool:\n",
    "        return answer == self.correct_answer"
   ],
   "id": "7cff810a2652a559"
  },
  {
   "metadata": {},
   "cell_type": "markdown",
   "source": "checks whether the question was answered correctly",
   "id": "6aa4055da189914"
  },
  {
   "metadata": {},
   "cell_type": "code",
   "outputs": [],
   "execution_count": null,
   "source": [
    "    def print_answer(self) -> str:\n",
    "        return f\"The right answer is: {self.correct_answer}\""
   ],
   "id": "3e530f70750722fe"
  },
  {
   "metadata": {},
   "cell_type": "markdown",
   "source": "Prints the correct answer",
   "id": "169a5948f7d49e21"
  },
  {
   "metadata": {},
   "cell_type": "code",
   "outputs": [],
   "execution_count": null,
   "source": [
    "    def update_difficult(self, new_difficulty: int) -> None:\n",
    "        self.difficulty = new_difficulty"
   ],
   "id": "63e5176eda6c7bfd"
  },
  {
   "metadata": {},
   "cell_type": "markdown",
   "source": "Setter for difficulty",
   "id": "fc7fc27f3109770e"
  },
  {
   "metadata": {},
   "cell_type": "code",
   "outputs": [],
   "execution_count": null,
   "source": [
    "class Deck:\n",
    "    cards: list[Card]\n",
    "    total_points: int\n",
    "\n",
    "    def __init__(self, filename):\n",
    "        self.load_cards_from_file(filename)\n",
    "        self.set_total_points()"
   ],
   "id": "c5a13f0307cb731"
  },
  {
   "metadata": {},
   "cell_type": "markdown",
   "source": "Deck class to represent a collection of cards along with points variable to store user achievements",
   "id": "a1541a322ea6d5a1"
  },
  {
   "metadata": {},
   "cell_type": "code",
   "outputs": [],
   "execution_count": null,
   "source": [
    "    def load_cards_from_file(self, filename):\n",
    "        l = []\n",
    "        with open(filename, mode='r') as file:\n",
    "            lines = file.readlines()\n",
    "        lines = lines[1:]\n",
    "        for line in lines:\n",
    "            cols = line.strip().split(\";\")\n",
    "            l.append(cols)\n",
    "\n",
    "        self.cards = [Card(card_info) for card_info in l]"
   ],
   "id": "ab11b1b00495e9c2"
  },
  {
   "metadata": {},
   "cell_type": "markdown",
   "source": "This functions takes a filename and reads the lines from the file. Then goes through each line and constructs a list of the Card class for the game.",
   "id": "57fb4d334fb892f2"
  },
  {
   "metadata": {},
   "cell_type": "code",
   "outputs": [],
   "execution_count": null,
   "source": [
    "    def set_total_points(self):\n",
    "        self.total_points = sum(card.difficulty for card in self.cards)"
   ],
   "id": "b44db8b0e8fcf1ba"
  },
  {
   "metadata": {},
   "cell_type": "markdown",
   "source": "idk? ",
   "id": "80ad56e6d833d6e1"
  },
  {
   "metadata": {},
   "cell_type": "code",
   "outputs": [],
   "execution_count": null,
   "source": [
    "def update_text(text):\n",
    "    label.config(text=text) "
   ],
   "id": "76fb6aac136f8ae7"
  },
  {
   "metadata": {},
   "cell_type": "markdown",
   "source": "Simple function to update the ui text",
   "id": "3f12e54ba94b23be"
  },
  {
   "metadata": {},
   "cell_type": "code",
   "outputs": [],
   "execution_count": null,
   "source": [
    "def button_click(answer):\n",
    "    result = \"CORRECT\" if current_card.is_correct(answer) else \"INCORRECT\"\n",
    "    if result == \"INCORRECT\":\n",
    "        result = result + \" \" + current_card.print_answer()\n",
    "    update_text(result)\n",
    "    window.after(2000, next_question)  # Wait for 2 seconds before showing the next question"
   ],
   "id": "a10ce39c46e82320"
  },
  {
   "metadata": {},
   "cell_type": "markdown",
   "source": "On click handler for the ui, checks the user answer then updates its text and shows the next question after 2 seconds",
   "id": "a145232a1c1a847e"
  },
  {
   "metadata": {},
   "cell_type": "code",
   "outputs": [],
   "execution_count": null,
   "source": [
    "def next_question():\n",
    "    global current_card, current_card_number\n",
    "    current_card_number = get_unseen_card_number(len(deck.cards), viewed_cards)\n",
    "    if current_card == -1:\n",
    "        update_text(\"Thanks for playing\")\n",
    "    else:\n",
    "        viewed_cards.append(current_card_number)\n",
    "        current_card = deck.cards[current_card_number]\n",
    "        update_question()"
   ],
   "id": "ecc9869fe3056d5a"
  },
  {
   "metadata": {},
   "cell_type": "markdown",
   "source": "why global? \n",
   "id": "422154bbb89927fa"
  },
  {
   "metadata": {},
   "cell_type": "code",
   "outputs": [],
   "execution_count": null,
   "source": [
    "def get_unseen_card_number(total_cards, viewed_cards):\n",
    "    if len(viewed_cards) == total_cards:\n",
    "        return -1\n",
    "    card_number = -1\n",
    "    while card_number == -1 or card_number in viewed_cards:\n",
    "        card_number = random.randint(0, total_cards - 1)\n",
    "    return card_number"
   ],
   "id": "212c8e3582d3094f"
  },
  {
   "metadata": {},
   "cell_type": "markdown",
   "source": [
    "Choose a random card from the deck, which has not been played yet.\n",
    "if no cards are left return -1 to indicate end of game"
   ],
   "id": "a6617dd31f6d3917"
  },
  {
   "metadata": {},
   "cell_type": "markdown",
   "source": "",
   "id": "79973e5e23f4197"
  },
  {
   "metadata": {},
   "cell_type": "code",
   "outputs": [],
   "execution_count": null,
   "source": [
    "def update_question():\n",
    "    label.config(text=current_card.question)\n",
    "    A_button.config(text=current_card.answer_possibilities[0])\n",
    "    B_button.config(text=current_card.answer_possibilities[1])\n",
    "    C_button.config(text=current_card.answer_possibilities[2])"
   ],
   "id": "9ec33e6df47e77c5"
  },
  {
   "metadata": {},
   "cell_type": "markdown",
   "source": "Updates UI according to question",
   "id": "b02e4527d5c52ee0"
  },
  {
   "metadata": {},
   "cell_type": "code",
   "outputs": [],
   "execution_count": null,
   "source": [
    "window = tk.Tk()\n",
    "window.title(\"Anki\")\n",
    "\n",
    "deck = Deck(\"python.csv\")\n",
    "viewed_cards = []\n",
    "current_card_number = get_unseen_card_number(len(deck.cards), viewed_cards)\n",
    "viewed_cards.append(current_card_number)\n",
    "current_card = deck.cards[current_card_number]\n",
    "\n",
    "main_frame = tk.Frame(window)\n",
    "main_frame.pack(expand=True)\n",
    "\n",
    "label = tk.Label(main_frame, text=current_card.question, font=(\"Helvetica\", 16))\n",
    "label.pack(pady=20)\n",
    "\n",
    "button_frame = tk.Frame(main_frame)\n",
    "button_frame.pack()\n",
    "\n",
    "A_button = tk.Button(button_frame, text=current_card.answer_possibilities[0], command=lambda: button_click(\"A\"))\n",
    "A_button.pack(side=tk.LEFT, padx=5)\n",
    "\n",
    "B_button = tk.Button(button_frame, text=current_card.answer_possibilities[1], command=lambda: button_click(\"B\"))\n",
    "B_button.pack(side=tk.LEFT, padx=5)\n",
    "\n",
    "C_button = tk.Button(button_frame, text=current_card.answer_possibilities[2], command=lambda: button_click(\"C\"))\n",
    "C_button.pack(side=tk.LEFT, padx=5)\n",
    "\n",
    "main_frame.pack(expand=True, anchor='center')\n",
    "\n",
    "tk.mainloop()\n"
   ],
   "id": "72296514e50e022c"
  },
  {
   "metadata": {},
   "cell_type": "markdown",
   "source": "Setup the UI, load a csv, initialize the Deck and choose starting question, then call mainloop to keep the game running",
   "id": "b968c4f8abf9b9e"
  }
 ],
 "metadata": {
  "kernelspec": {
   "display_name": "Python 3",
   "language": "python",
   "name": "python3"
  },
  "language_info": {
   "codemirror_mode": {
    "name": "ipython",
    "version": 2
   },
   "file_extension": ".py",
   "mimetype": "text/x-python",
   "name": "python",
   "nbconvert_exporter": "python",
   "pygments_lexer": "ipython2",
   "version": "2.7.6"
  }
 },
 "nbformat": 4,
 "nbformat_minor": 5
}
